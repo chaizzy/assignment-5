{
 "cells": [
  {
   "cell_type": "code",
   "execution_count": 27,
   "id": "ebce0016-3eb2-46c9-93c0-b906dd11a5c8",
   "metadata": {},
   "outputs": [],
   "source": [
    "#ANS 1\n",
    "l9=[('Sachin Tendulkar', 34357), ('Ricky Ponting', 27483), ('Jack Kallis', 25534), ('Virat Kohli', 24936)]"
   ]
  },
  {
   "cell_type": "code",
   "execution_count": 28,
   "id": "0deb6b50-1bf9-4c83-9be5-3fb094df09a6",
   "metadata": {},
   "outputs": [
    {
     "data": {
      "text/plain": [
       "[('Sachin Tendulkar', 34357),\n",
       " ('Ricky Ponting', 27483),\n",
       " ('Jack Kallis', 25534),\n",
       " ('Virat Kohli', 24936)]"
      ]
     },
     "execution_count": 28,
     "metadata": {},
     "output_type": "execute_result"
    }
   ],
   "source": [
    "l9"
   ]
  },
  {
   "cell_type": "code",
   "execution_count": 31,
   "id": "ab1973ad-ceeb-4ec9-83ff-1c8b0eb64249",
   "metadata": {},
   "outputs": [
    {
     "data": {
      "text/plain": [
       "[('Virat Kohli', 24936),\n",
       " ('Jack Kallis', 25534),\n",
       " ('Ricky Ponting', 27483),\n",
       " ('Sachin Tendulkar', 34357)]"
      ]
     },
     "execution_count": 31,
     "metadata": {},
     "output_type": "execute_result"
    }
   ],
   "source": [
    " \n",
    "l9.sort(key= lambda x: x[1] , reverse = False)\n",
    "l9"
   ]
  },
  {
   "cell_type": "code",
   "execution_count": 8,
   "id": "c9837d7c-fe1d-4be0-8aca-a6e3f65fed45",
   "metadata": {},
   "outputs": [
    {
     "data": {
      "text/plain": [
       "[1, 4, 9, 16, 25, 36, 49, 64, 81, 100]"
      ]
     },
     "execution_count": 8,
     "metadata": {},
     "output_type": "execute_result"
    }
   ],
   "source": [
    "#ANS 2: \n",
    "l1 = [1, 2, 3, 4, 5, 6, 7, 8, 9, 10]\n",
    "list(map(lambda x : x**2,l1)) "
   ]
  },
  {
   "cell_type": "code",
   "execution_count": 16,
   "id": "7894f5df-3fb5-48eb-844d-539828a89ded",
   "metadata": {},
   "outputs": [
    {
     "data": {
      "text/plain": [
       "('1', '2', '3', '4', '5', '6', '7', '8', '9', '10')"
      ]
     },
     "execution_count": 16,
     "metadata": {},
     "output_type": "execute_result"
    }
   ],
   "source": [
    "#ANS 3:\n",
    "l3=[1, 2, 3, 4, 5, 6, 7, 8, 9, 10]\n",
    "tuple(map(lambda x: str(x) , l3))"
   ]
  },
  {
   "cell_type": "code",
   "execution_count": 22,
   "id": "fd8a0fd6-3b7c-42a3-8d0d-56293356f67b",
   "metadata": {},
   "outputs": [
    {
     "name": "stdout",
     "output_type": "stream",
     "text": [
      "[1, 2, 3, 4, 5, 6, 7, 8, 9, 10, 11, 12, 13, 14, 15, 16, 17, 18, 19, 20, 21, 22, 23, 24, 25]\n"
     ]
    },
    {
     "data": {
      "text/plain": [
       "15511210043330985984000000"
      ]
     },
     "execution_count": 22,
     "metadata": {},
     "output_type": "execute_result"
    }
   ],
   "source": [
    "#ANS 4:\n",
    "from functools import reduce\n",
    "l6=[]\n",
    "for i in range(1,26):\n",
    "    l6.append(i)\n",
    "print(l6)    \n",
    "reduce(lambda x , y : x*y,l6)    \n",
    "    "
   ]
  },
  {
   "cell_type": "code",
   "execution_count": 23,
   "id": "15cb36cc-77f2-4780-b809-67a81c0a3950",
   "metadata": {},
   "outputs": [
    {
     "data": {
      "text/plain": [
       "[2, 3, 6, 9, 27, 60, 90, 120, 46]"
      ]
     },
     "execution_count": 23,
     "metadata": {},
     "output_type": "execute_result"
    }
   ],
   "source": [
    "#ANS 5:\n",
    "l7=[2, 3, 6, 9, 27, 60, 90, 120, 55, 46]\n",
    "list(filter(lambda x: x%2==0 or x%3==0 , l7))\n"
   ]
  },
  {
   "cell_type": "code",
   "execution_count": 24,
   "id": "80d513e7-8a84-41f8-a19d-4c7dc3b94cc8",
   "metadata": {},
   "outputs": [
    {
     "data": {
      "text/plain": [
       "['php', 'aba', 'radar', 'level']"
      ]
     },
     "execution_count": 24,
     "metadata": {},
     "output_type": "execute_result"
    }
   ],
   "source": [
    "#ANS 6\n",
    "l8=['python', 'php', 'aba', 'radar', 'level']\n",
    "list(filter(lambda x : str(x)[::-1]==str(x) , l8))"
   ]
  },
  {
   "cell_type": "code",
   "execution_count": null,
   "id": "98c8453c-2d0f-412f-a8f0-2bca1dd89e11",
   "metadata": {},
   "outputs": [],
   "source": []
  }
 ],
 "metadata": {
  "kernelspec": {
   "display_name": "Python 3 (ipykernel)",
   "language": "python",
   "name": "python3"
  },
  "language_info": {
   "codemirror_mode": {
    "name": "ipython",
    "version": 3
   },
   "file_extension": ".py",
   "mimetype": "text/x-python",
   "name": "python",
   "nbconvert_exporter": "python",
   "pygments_lexer": "ipython3",
   "version": "3.10.8"
  }
 },
 "nbformat": 4,
 "nbformat_minor": 5
}
